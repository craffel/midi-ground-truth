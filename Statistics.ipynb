{
 "cells": [
  {
   "cell_type": "code",
   "execution_count": null,
   "metadata": {
    "collapsed": false
   },
   "outputs": [],
   "source": [
    "import librosa\n",
    "import mir_eval\n",
    "import IPython\n",
    "import sys\n",
    "sys.path.append('/home/craffel/projects/midi-dataset/')\n",
    "sys.path.append('/home/craffel/projects/midi-dataset/scripts')\n",
    "import whoosh_search\n",
    "import os\n",
    "import shutil\n",
    "import pretty_midi\n",
    "import re\n",
    "import numpy as np\n",
    "import feature_extraction\n",
    "import deepdish\n",
    "import joblib\n",
    "import align_text_matches\n",
    "import glob\n",
    "import matplotlib.pyplot as plt\n",
    "%matplotlib inline\n",
    "import seaborn as sns\n",
    "sns.set_style('white')\n",
    "import matplotlib.gridspec\n",
    "import matplotlib\n",
    "import cPickle as pickle\n",
    "import collections"
   ]
  },
  {
   "cell_type": "markdown",
   "metadata": {},
   "source": [
    "### Compute statistics about MIDI files from the wild"
   ]
  },
  {
   "cell_type": "code",
   "execution_count": null,
   "metadata": {
    "collapsed": false
   },
   "outputs": [],
   "source": [
    "def compute_statistics(midi_file):\n",
    "    \"\"\"\n",
    "    Given a path to a MIDI file, compute a dictionary of statistics about it\n",
    "    \n",
    "    Parameters\n",
    "    ----------\n",
    "    midi_file : str\n",
    "        Path to a MIDI file.\n",
    "    \n",
    "    Returns\n",
    "    -------\n",
    "    statistics : dict\n",
    "        Dictionary reporting the program numbers, key numbers,\n",
    "        tempos, and time signatures present in the MIDI file.\n",
    "    \"\"\"\n",
    "    # Some MIDI files will raise Exceptions on loading, if they are invalid.\n",
    "    # We just skip those.\n",
    "    try:\n",
    "        pm = pretty_midi.PrettyMIDI(midi_file)\n",
    "        # Extract informative events from the MIDI file\n",
    "        return {'n_instruments': len(pm.instruments),\n",
    "                'program_numbers': [i.program for i in pm.instruments if not i.is_drum],\n",
    "                'key_numbers': [k.key_number for k in pm.key_signature_changes],\n",
    "                'tempos': list(pm.get_tempo_changes()[1]),\n",
    "                'time_signature_changes': pm.time_signature_changes}\n",
    "    # Dear Python, sorry for the anti-pattern\n",
    "    except Exception as e:\n",
    "        pass"
   ]
  },
  {
   "cell_type": "code",
   "execution_count": null,
   "metadata": {
    "collapsed": false
   },
   "outputs": [],
   "source": [
    "# Compute statistics about every unique MIDI file we found on the internet\n",
    "statistics = joblib.Parallel(n_jobs=10, verbose=10)(\n",
    "    joblib.delayed(compute_statistics)(midi_file)\n",
    "    for midi_file in glob.glob(os.path.join('data', 'unique_mid', '*', '*.mid')))\n",
    "# When an error occurred, None will be returned; filter those out.\n",
    "statistics = [s for s in statistics if s is not None]"
   ]
  },
  {
   "cell_type": "code",
   "execution_count": null,
   "metadata": {
    "collapsed": false
   },
   "outputs": [],
   "source": [
    "with open('statistics.pkl', 'wb') as f:\n",
    "    pickle.dump(statistics, f)"
   ]
  },
  {
   "cell_type": "code",
   "execution_count": null,
   "metadata": {
    "collapsed": false
   },
   "outputs": [],
   "source": [
    "with open('statistics.pkl') as f:\n",
    "    statistics = pickle.load(f)"
   ]
  },
  {
   "cell_type": "code",
   "execution_count": null,
   "metadata": {
    "collapsed": false
   },
   "outputs": [],
   "source": [
    "statistics = statistics[:10000]"
   ]
  },
  {
   "cell_type": "code",
   "execution_count": null,
   "metadata": {
    "collapsed": false
   },
   "outputs": [],
   "source": [
    "matplotlib.rc('font', **{'size':13})"
   ]
  },
  {
   "cell_type": "code",
   "execution_count": null,
   "metadata": {
    "collapsed": false,
    "scrolled": false
   },
   "outputs": [],
   "source": [
    "BLUE = '#28ABE3'\n",
    "GREEN = '#1FDA9A'\n",
    "ORANGE = '#E8B71A'\n",
    "GREY = '#AAAAAA'\n",
    "\n",
    "def uniform_hist(data, bins, ax, **kwargs):\n",
    "    heights, _ = np.histogram(data, bins)\n",
    "    ax.bar(left=np.arange(len(bins) - 1) - .5, height=heights,\n",
    "           width=1, bottom=0, **kwargs)\n",
    "    return heights\n",
    "\n",
    "def pretty_hist(data, bins, fc, ax, title=None):\n",
    "    \"\"\" Utility method for plotting a nice histogram \"\"\"\n",
    "    # Make it so that all points beyond the bin range get put in the last bin\n",
    "    data = np.array(data)\n",
    "    data[data > bins[-1]] = bins[-1] - 1e-10\n",
    "    # Plot histogram, with specific coloring and axis-alignment\n",
    "    heights = uniform_hist(data, bins, ax, fc=fc, alpha=.7)\n",
    "    # Remove spines from plot\n",
    "    sns.despine()\n",
    "    # Add grid to y axis\n",
    "    ax.yaxis.grid()\n",
    "    # Set the plotting range to fit the histogram exactly\n",
    "    bin_spacing = 1.\n",
    "    ax.set_xlim(-bin_spacing/2., len(bins) - 1 - bin_spacing/2.)\n",
    "    if title is not None:\n",
    "        plt.suptitle(title, verticalalignment='top', y=.95, size='large')\n",
    "    return heights\n",
    "\n",
    "def divide_yticklabels(ax, divisor=1000):\n",
    "    \"\"\" Utility method to scale down all y tick labels \"\"\"\n",
    "    ax.set_yticklabels([int(float(t)/divisor)\n",
    "                        if (float(t)/divisor).is_integer()\n",
    "                        else float(t)/divisor\n",
    "                        for t in ax.get_yticks()])\n",
    "\n",
    "def split_hist(data, bin_edges, high_bin_indices, fc, title):\n",
    "    \"\"\" Plot a histogram where one or more bins have very large values \"\"\"\n",
    "    # Make high_bin_indices a list if an int was passed\n",
    "    if isinstance(high_bin_indices, int):\n",
    "        high_bin_indices = [high_bin_indices]\n",
    "    # Create 2-row, 1-col subplot where the upper sublot is 1/4 the height\n",
    "    # The upper subplot will be the tops of the very large bins; lower will be the rest\n",
    "    gs = matplotlib.gridspec.GridSpec(2, 1, width_ratios=[1,], height_ratios=[1, 4])\n",
    "    # Set the spacing between subplots to .1\n",
    "    gs.update(hspace=0.1)\n",
    "    # Grab axes handles\n",
    "    ax = plt.subplot(gs[0])\n",
    "    ax2 = plt.subplot(gs[1])\n",
    "    # Plot pretty histograms both for the \"upper\" and \"lower\" parts of the split\n",
    "    heights = pretty_hist(data, bin_edges, fc, ax)\n",
    "    pretty_hist(data, bin_edges, fc, ax2)\n",
    "    low_min = 0\n",
    "    # Compute the height of the largest bin _not_ in high_bin_indices\n",
    "    low_max = 1.1*max(heights[n] for n in range(len(bin_edges) - 1)\n",
    "                      if n not in high_bin_indices)\n",
    "    low_range = low_max - low_min\n",
    "    # Compute the height of the smallest bin in high_bin_indices\n",
    "    high_min = .9*min(heights[n] for n in high_bin_indices)\n",
    "    # Compute the height of the highest bin in high_bin_indices\n",
    "    high_max = 1.1*max(heights[n] for n in high_bin_indices)\n",
    "    # Set the Y plotting range according to the above.  This will crop things.\n",
    "    ax.set_ylim(high_min, high_max)\n",
    "    ax2.set_ylim(low_min, low_max)\n",
    "    # Hide the spines between ax and ax2\n",
    "    ax.spines['bottom'].set_visible(False)\n",
    "    ax2.spines['top'].set_visible(False)\n",
    "    ax.xaxis.tick_top()\n",
    "    ax.tick_params(labeltop='off')\n",
    "    ax2.xaxis.tick_bottom()\n",
    "\n",
    "    # Compute the spacing between y-ticks on the lower plot\n",
    "    lowtick_spacing = np.diff(ax2.get_yticks())[0]\n",
    "    # Create a single tick on the upper plot, rounded to the same spacing as lower plot\n",
    "    ax.set_yticks([int(lowtick_spacing)*int((high_min + high_max)/(2*lowtick_spacing))])\n",
    "\n",
    "    # X-axis start of clip lines (relative to [0, 1])\n",
    "    start = -.015\n",
    "    # Compute proportion of x-axis covered by last high_bin_indices (+ .015)\n",
    "    end = (high_bin_indices[-1] + 1)/float(len(bin_edges) - 1) + .015\n",
    "    # Plot the lines, allowing for it to expand outside of the axis\n",
    "    ax.plot([start, end], [0., 0.], transform=ax.transAxes, color='k', clip_on=False)\n",
    "    ax2.plot([start, end], [1., 1.], transform=ax2.transAxes, color='k', clip_on=False)\n",
    "\n",
    "    # Convert count to thousands\n",
    "    divide_yticklabels(ax)\n",
    "    divide_yticklabels(ax2)\n",
    "\n",
    "    plt.suptitle(title, verticalalignment='top', y=.95, size='large')\n",
    "\n",
    "plt.figure()\n",
    "pretty_hist([s['n_instruments'] for s in statistics],\n",
    "            range(22), BLUE, plt.gca(), '(a) Number of instruments')\n",
    "divide_yticklabels(plt.gca())\n",
    "plt.savefig('n_instruments.pdf', transparent=True, bbox_inches='tight', pad_inches=0.1)\n",
    "plt.xticks(range(0, 22, 5), range(0, 22 - 5, 5) + ['20+'])\n",
    "\n",
    "plt.figure()\n",
    "split_hist([i for s in statistics for i in s['program_numbers']],\n",
    "           range(128), 0, BLUE, '(e) Program Numbers')\n",
    "plt.savefig('program_numbers.pdf', transparent=True, bbox_inches='tight', pad_inches=0.1)\n",
    "\n",
    "\n",
    "plt.figure()\n",
    "split_hist([len(s['tempos']) for s in statistics],\n",
    "           range(1, 12) + [30, 100, 1000], 0, GREEN, '(b) Number of tempo changes')\n",
    "plt.xticks(range(13), range(1, 11) + ['11 - 30', '31 - 100', '101+'], rotation=45, ha='center')\n",
    "plt.savefig('n_tempos.pdf', transparent=True, bbox_inches='tight', pad_inches=0.1)\n",
    "\n",
    "plt.figure()\n",
    "pretty_hist([i for s in statistics for i in s['tempos']],\n",
    "            range(0, 260, 10), GREEN, plt.gca(), '(f) Tempos')\n",
    "divide_yticklabels(plt.gca())\n",
    "plt.xticks(range(0, len(range(0, 260, 10)), 3), range(0, 240, 30) + ['240+'], rotation=45)\n",
    "plt.savefig('tempos.pdf', transparent=True, bbox_inches='tight', pad_inches=0.1)\n",
    "\n",
    "plt.figure()\n",
    "split_hist([len(s['key_numbers']) for s in statistics],\n",
    "           range(12), [0, 1], ORANGE, '(d) Number of key changes')\n",
    "plt.xticks(range(11), range(10) + ['10+'])\n",
    "plt.savefig('n_keys.pdf', transparent=True, bbox_inches='tight', pad_inches=0.1)\n",
    "\n",
    "fig = plt.figure()\n",
    "split_hist([i for s in statistics for i in s['key_numbers']],\n",
    "           range(25), 0, ORANGE, '(h) Keys')\n",
    "plt.xticks([0, 2, 4, 5, 7, 9, 11, 12, 14, 16, 17, 19, 21, 23],\n",
    "           ['C', 'D', 'E', 'F', 'G', 'A', 'B', 'c', 'd', 'e', 'f', 'g', 'a', 'b'])\n",
    "plt.figtext(0.28, .03, 'Major')\n",
    "plt.figtext(0.67, .03, 'Minor')\n",
    "l1 = matplotlib.lines.Line2D([.14, .26], [.045, .045], c='k', transform=fig.transFigure, figure=fig)\n",
    "l2 = matplotlib.lines.Line2D([.37, .49], [.045, .045], c='k', transform=fig.transFigure, figure=fig)\n",
    "l3 = matplotlib.lines.Line2D([.53, .65], [.045, .045], c='k', transform=fig.transFigure, figure=fig)\n",
    "l4 = matplotlib.lines.Line2D([.76, .88], [.045, .045], c='k', transform=fig.transFigure, figure=fig)\n",
    "fig.lines.extend([l1, l2, l3, l4])\n",
    "plt.savefig('keys.pdf', transparent=True, bbox_inches='tight', pad_inches=0.1)\n",
    "\n",
    "plt.figure()\n",
    "split_hist([len(s['time_signature_changes']) for s in statistics],\n",
    "           range(12), 1, GREY, '(c) Number of time signature changes')\n",
    "plt.xticks(range(11), range(10) + ['10+'])\n",
    "plt.savefig('n_signatures.pdf', transparent=True, bbox_inches='tight', pad_inches=0.1)\n",
    "\n",
    "# Get strings for all time signatures\n",
    "time_signatures = ['{}/{}'.format(c.numerator, c.denominator)\n",
    "                   for s in statistics for c in s['time_signature_changes']]\n",
    "\n",
    "# Only display the n_top top time signatures\n",
    "n_top = 15\n",
    "# Get the n_top top time signatures\n",
    "top = collections.Counter(time_signatures).most_common(n_top)\n",
    "# Create a dict mapping an integer index to the time signature string\n",
    "top_signatures = {n: s[0] for n, s in enumerate(top)}\n",
    "# Add an additional index for non-top signatures\n",
    "top_signatures[n_top] = 'Other'\n",
    "# Compute the number of non-top time signatures\n",
    "n_other = len(time_signatures) - sum(s[1] for s in top)\n",
    "# Create a list with each index repeated the number of times\n",
    "# each time signature appears, to be passed to plt.hist\n",
    "indexed_time_signatures = sum([[n]*s[1] for n, s in enumerate(top)], [])\n",
    "indexed_time_signatures += [n_top]*n_other\n",
    "\n",
    "plt.figure()\n",
    "split_hist(indexed_time_signatures, range(n_top + 2), 0, GREY, '(g) Time signatures')\n",
    "plt.xticks(top_signatures.keys(), top_signatures.values(), rotation=45, ha='center')\n",
    "plt.savefig('time_signatures.pdf', transparent=True, bbox_inches='tight', pad_inches=0.1)\n",
    "\n",
    "pass"
   ]
  },
  {
   "cell_type": "code",
   "execution_count": null,
   "metadata": {
    "collapsed": false
   },
   "outputs": [],
   "source": [
    "most_common_instruments = np.argsort(np.bincount([i for s in statistics for i in s['program_numbers']]))[-4:]\n",
    "print most_common_instruments\n",
    "print [pretty_midi.program_to_instrument_name(i) for i in most_common_instruments]"
   ]
  },
  {
   "cell_type": "code",
   "execution_count": null,
   "metadata": {
    "collapsed": false
   },
   "outputs": [],
   "source": [
    "len(statistics)"
   ]
  },
  {
   "cell_type": "markdown",
   "metadata": {},
   "source": [
    "[a](n_instruments.pdf)\n",
    "\n",
    "[b](program_numbers.pdf)\n",
    "\n",
    "[c](n_tempos.pdf)\n",
    "\n",
    "[d](tempos.pdf)\n",
    "\n",
    "[e](n_keys.pdf)\n",
    "\n",
    "[f](keys.pdf)\n",
    "\n",
    "[g](n_signatures.pdf)\n",
    "\n",
    "[h](time_signatures.pdf)"
   ]
  },
  {
   "cell_type": "markdown",
   "metadata": {},
   "source": [
    "### Text events?"
   ]
  },
  {
   "cell_type": "code",
   "execution_count": null,
   "metadata": {
    "collapsed": false
   },
   "outputs": [],
   "source": [
    "import midi\n",
    "import glob\n",
    "import os\n",
    "import joblib\n",
    "import pretty_midi"
   ]
  },
  {
   "cell_type": "code",
   "execution_count": null,
   "metadata": {
    "collapsed": false
   },
   "outputs": [],
   "source": [
    "def get_names(midi_file):\n",
    "    "
   ]
  },
  {
   "cell_type": "code",
   "execution_count": null,
   "metadata": {
    "collapsed": false
   },
   "outputs": [],
   "source": [
    "def any_lyrics(midi_file):\n",
    "    try:\n",
    "        midi_data = midi.read_midifile(midi_file)\n",
    "    except:\n",
    "        return None\n",
    "    for track in midi_data:\n",
    "        for event in track:\n",
    "            if isinstance(event, midi.LyricsEvent):\n",
    "                return 1\n",
    "    return 0\n",
    "\n",
    "has_lyrics = joblib.Parallel(n_jobs=10, verbose=11)(\n",
    "    joblib.delayed(any_lyrics)(f) for f in\n",
    "    glob.glob(os.path.join('data', 'unique_mid', '*', '*.mid')))"
   ]
  },
  {
   "cell_type": "code",
   "execution_count": null,
   "metadata": {
    "collapsed": false
   },
   "outputs": [],
   "source": [
    "print sum([l for l in has_lyrics if l is not None])\n",
    "print sum([l for l in has_lyrics if l is not None])/float(len(has_lyrics))"
   ]
  },
  {
   "cell_type": "code",
   "execution_count": null,
   "metadata": {
    "collapsed": false
   },
   "outputs": [],
   "source": [
    "n_bad = 0\n",
    "for f in glob.glob('data/mid/*/*.mid*'):\n",
    "    try:\n",
    "        pm = pretty_midi.PrettyMIDI(f)\n",
    "    except:\n",
    "        n_bad += 1\n",
    "        pass"
   ]
  },
  {
   "cell_type": "code",
   "execution_count": null,
   "metadata": {
    "collapsed": false
   },
   "outputs": [],
   "source": [
    "n_mids = []\n",
    "beatles_wavs = glob.glob('data/wav/*/*.wav')\n",
    "for f in beatles_wavs:\n",
    "    mid_glob = f.replace('wav', 'mid') + '*'\n",
    "    n_mids.append(len(glob.glob(mid_glob)))\n",
    "n_mids = np.array(n_mids)\n",
    "print len(n_mids)\n",
    "print np.sum(n_mids == 0)\n",
    "print np.median(n_mids)\n",
    "print np.max(n_mids)\n",
    "print beatles_wavs[np.argmax(n_mids)]"
   ]
  }
 ],
 "metadata": {
  "kernelspec": {
   "display_name": "Python 2",
   "language": "python",
   "name": "python2"
  },
  "language_info": {
   "codemirror_mode": {
    "name": "ipython",
    "version": 2
   },
   "file_extension": ".py",
   "mimetype": "text/x-python",
   "name": "python",
   "nbconvert_exporter": "python",
   "pygments_lexer": "ipython2",
   "version": "2.7.6"
  }
 },
 "nbformat": 4,
 "nbformat_minor": 0
}
