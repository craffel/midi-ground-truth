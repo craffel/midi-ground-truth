{
 "cells": [
  {
   "cell_type": "markdown",
   "metadata": {},
   "source": [
    "# Measuring Statistics about Information Sources in MIDI Files\n",
    "\n",
    "A MIDI file can provide a cornucopia of musical information about a given piece of music, including transcription, key, lyrics, and meter.\n",
    "However, the presence and quantity of each of these sources of information can vary.\n",
    "Through a large-scale web scrape, we obtained 178,561 unique (i.e. having different MD5 checksums) MIDI files.\n",
    "This notebook measures the availability of each possible source of information in MIDI files in this collection of MIDIs found \"in the wild\"."
   ]
  },
  {
   "cell_type": "code",
   "execution_count": null,
   "metadata": {
    "collapsed": false
   },
   "outputs": [],
   "source": [
    "import pretty_midi\n",
    "import numpy as np\n",
    "import joblib\n",
    "import glob\n",
    "import matplotlib.pyplot as plt\n",
    "%matplotlib inline\n",
    "import seaborn as sns\n",
    "sns.set_style('white')\n",
    "sns.set_context('notebook', font_scale=1.5)\n",
    "import matplotlib.gridspec\n",
    "import cPickle as pickle\n",
    "import collections\n",
    "import os\n",
    "# plotting.py contains utility functions for making nice histogram plots\n",
    "import plotting"
   ]
  },
  {
   "cell_type": "markdown",
   "metadata": {},
   "source": [
    "## Compute statistics\n",
    "\n",
    "The `compute_statistics` function takes in a MIDI file and simply collects the number, and values for, different events (for example, key change values and tempo settings) in the file.\n",
    "We will call this function for every entry in our 178,561 MIDI file collection and use these measurements to study the distributions of different event values and quantities of different event types."
   ]
  },
  {
   "cell_type": "code",
   "execution_count": null,
   "metadata": {
    "collapsed": false
   },
   "outputs": [],
   "source": [
    "def compute_statistics(midi_file):\n",
    "    \"\"\"\n",
    "    Given a path to a MIDI file, compute a dictionary of statistics about it\n",
    "    \n",
    "    Parameters\n",
    "    ----------\n",
    "    midi_file : str\n",
    "        Path to a MIDI file.\n",
    "    \n",
    "    Returns\n",
    "    -------\n",
    "    statistics : dict\n",
    "        Dictionary reporting the values for different events in the file.\n",
    "    \"\"\"\n",
    "    # Some MIDI files will raise Exceptions on loading, if they are invalid.\n",
    "    # We just skip those.\n",
    "    try:\n",
    "        pm = pretty_midi.PrettyMIDI(midi_file)\n",
    "        # Extract informative events from the MIDI file\n",
    "        return {'n_instruments': len(pm.instruments),\n",
    "                'program_numbers': [i.program for i in pm.instruments if not i.is_drum],\n",
    "                'key_numbers': [k.key_number for k in pm.key_signature_changes],\n",
    "                'tempos': list(pm.get_tempo_changes()[1]),\n",
    "                'time_signature_changes': pm.time_signature_changes}\n",
    "    # Silently ignore exceptions for a clean presentation (sorry Python!)\n",
    "    except Exception as e:\n",
    "        pass"
   ]
  },
  {
   "cell_type": "code",
   "execution_count": null,
   "metadata": {
    "collapsed": false
   },
   "outputs": [],
   "source": [
    "# Compute statistics about every file in our collection in parallel using joblib\n",
    "# We do things in parallel because there are tons so it would otherwise take too long!\n",
    "statistics = joblib.Parallel(n_jobs=10, verbose=10)(\n",
    "    joblib.delayed(compute_statistics)(midi_file)\n",
    "    for midi_file in glob.glob(os.path.join('data', 'unique_mid', '*', '*.mid')))\n",
    "# When an error occurred, None will be returned; filter those out.\n",
    "statistics = [s for s in statistics if s is not None]"
   ]
  },
  {
   "cell_type": "code",
   "execution_count": null,
   "metadata": {
    "collapsed": false
   },
   "outputs": [],
   "source": [
    "# Save the computed statistics so we only need to do the above once\n",
    "with open('statistics.pkl', 'wb') as f:\n",
    "    pickle.dump(statistics, f)"
   ]
  },
  {
   "cell_type": "code",
   "execution_count": null,
   "metadata": {
    "collapsed": false
   },
   "outputs": [],
   "source": [
    "# Load in pre-computed statistics\n",
    "with open('statistics.pkl') as f:\n",
    "    statistics = pickle.load(f)"
   ]
  },
  {
   "cell_type": "code",
   "execution_count": null,
   "metadata": {
    "collapsed": false
   },
   "outputs": [],
   "source": [
    "plotting.plot_hist([s['n_instruments'] for s in statistics], range(22))\n",
    "plt.xticks(range(0, 22, 5), range(0, 22 - 5, 5) + ['20+']);"
   ]
  },
  {
   "cell_type": "code",
   "execution_count": null,
   "metadata": {
    "collapsed": false
   },
   "outputs": [],
   "source": [
    "plotting.plot_hist([i for s in statistics for i in s['program_numbers']], range(128))"
   ]
  },
  {
   "cell_type": "code",
   "execution_count": null,
   "metadata": {
    "collapsed": false
   },
   "outputs": [],
   "source": [
    "plotting.plot_hist([len(s['tempos']) for s in statistics], range(1, 12) + [30, 100, 1000])\n",
    "plt.xticks(np.arange(13) + .3, range(1, 11) + ['11 - 30', '31 - 100', '101+'], rotation=45, ha='right');"
   ]
  },
  {
   "cell_type": "code",
   "execution_count": null,
   "metadata": {
    "collapsed": false
   },
   "outputs": [],
   "source": [
    "plotting.plot_hist([i for s in statistics for i in s['tempos']], range(0, 260, 10))\n",
    "plt.xticks(np.arange(0, len(range(0, 260, 10)), 3) + .5, range(0, 240, 30) + ['240+'], rotation=45, ha='right');"
   ]
  },
  {
   "cell_type": "code",
   "execution_count": null,
   "metadata": {
    "collapsed": false
   },
   "outputs": [],
   "source": [
    "plotting.plot_hist([len(s['key_numbers']) for s in statistics], range(12))\n",
    "plt.xticks(range(11), range(10) + ['10+']);"
   ]
  },
  {
   "cell_type": "code",
   "execution_count": null,
   "metadata": {
    "collapsed": false
   },
   "outputs": [],
   "source": [
    "plotting.plot_hist([i for s in statistics for i in s['key_numbers']], range(25))\n",
    "plt.xticks([0, 2, 4, 5, 7, 9, 11, 12, 14, 16, 17, 19, 21, 23],\n",
    "           ['C', 'D', 'E', 'F', 'G', 'A', 'B', 'c', 'd', 'e', 'f', 'g', 'a', 'b']);"
   ]
  },
  {
   "cell_type": "code",
   "execution_count": null,
   "metadata": {
    "collapsed": false
   },
   "outputs": [],
   "source": [
    "plotting.plot_hist([len(s['time_signature_changes']) for s in statistics], range(12))\n",
    "plt.xticks(range(11), range(10) + ['10+']);"
   ]
  },
  {
   "cell_type": "code",
   "execution_count": null,
   "metadata": {
    "collapsed": false,
    "scrolled": false
   },
   "outputs": [],
   "source": [
    "# Get strings for all time signatures\n",
    "time_signatures = ['{}/{}'.format(c.numerator, c.denominator)\n",
    "                   for s in statistics for c in s['time_signature_changes']]\n",
    "\n",
    "# Only display the n_top top time signatures\n",
    "n_top = 15\n",
    "# Get the n_top top time signatures\n",
    "top = collections.Counter(time_signatures).most_common(n_top)\n",
    "# Create a dict mapping an integer index to the time signature string\n",
    "top_signatures = {n: s[0] for n, s in enumerate(top)}\n",
    "# Add an additional index for non-top signatures\n",
    "top_signatures[n_top] = 'Other'\n",
    "# Compute the number of non-top time signatures\n",
    "n_other = len(time_signatures) - sum(s[1] for s in top)\n",
    "# Create a list with each index repeated the number of times\n",
    "# each time signature appears, to be passed to plt.hist\n",
    "indexed_time_signatures = sum([[n]*s[1] for n, s in enumerate(top)], [])\n",
    "indexed_time_signatures += [n_top]*n_other\n",
    "\n",
    "plotting.plot_hist(indexed_time_signatures, range(n_top + 2))\n",
    "plt.xticks(np.array(top_signatures.keys()) + .3, top_signatures.values(), rotation=45, ha='right');"
   ]
  },
  {
   "cell_type": "code",
   "execution_count": null,
   "metadata": {
    "collapsed": false
   },
   "outputs": [],
   "source": [
    "most_common_instruments = np.argsort(np.bincount([i for s in statistics for i in s['program_numbers']]))[-4:]\n",
    "print most_common_instruments\n",
    "print [pretty_midi.program_to_instrument_name(i) for i in most_common_instruments]"
   ]
  },
  {
   "cell_type": "code",
   "execution_count": null,
   "metadata": {
    "collapsed": false
   },
   "outputs": [],
   "source": [
    "len(statistics)"
   ]
  },
  {
   "cell_type": "markdown",
   "metadata": {},
   "source": [
    "[a](n_instruments.pdf)\n",
    "\n",
    "[b](program_numbers.pdf)\n",
    "\n",
    "[c](n_tempos.pdf)\n",
    "\n",
    "[d](tempos.pdf)\n",
    "\n",
    "[e](n_keys.pdf)\n",
    "\n",
    "[f](keys.pdf)\n",
    "\n",
    "[g](n_signatures.pdf)\n",
    "\n",
    "[h](time_signatures.pdf)"
   ]
  },
  {
   "cell_type": "markdown",
   "metadata": {},
   "source": [
    "### Text events?"
   ]
  },
  {
   "cell_type": "code",
   "execution_count": null,
   "metadata": {
    "collapsed": false
   },
   "outputs": [],
   "source": [
    "import midi\n",
    "import glob\n",
    "import os\n",
    "import joblib\n",
    "import pretty_midi"
   ]
  },
  {
   "cell_type": "code",
   "execution_count": null,
   "metadata": {
    "collapsed": false
   },
   "outputs": [],
   "source": [
    "def get_names(midi_file):\n",
    "    "
   ]
  },
  {
   "cell_type": "code",
   "execution_count": null,
   "metadata": {
    "collapsed": false
   },
   "outputs": [],
   "source": [
    "def any_lyrics(midi_file):\n",
    "    try:\n",
    "        midi_data = midi.read_midifile(midi_file)\n",
    "    except:\n",
    "        return None\n",
    "    for track in midi_data:\n",
    "        for event in track:\n",
    "            if isinstance(event, midi.LyricsEvent):\n",
    "                return 1\n",
    "    return 0\n",
    "\n",
    "has_lyrics = joblib.Parallel(n_jobs=10, verbose=11)(\n",
    "    joblib.delayed(any_lyrics)(f) for f in\n",
    "    glob.glob(os.path.join('data', 'unique_mid', '*', '*.mid')))"
   ]
  },
  {
   "cell_type": "code",
   "execution_count": null,
   "metadata": {
    "collapsed": false
   },
   "outputs": [],
   "source": [
    "print sum([l for l in has_lyrics if l is not None])\n",
    "print sum([l for l in has_lyrics if l is not None])/float(len(has_lyrics))"
   ]
  },
  {
   "cell_type": "code",
   "execution_count": null,
   "metadata": {
    "collapsed": false
   },
   "outputs": [],
   "source": [
    "n_bad = 0\n",
    "for f in glob.glob('data/mid/*/*.mid*'):\n",
    "    try:\n",
    "        pm = pretty_midi.PrettyMIDI(f)\n",
    "    except:\n",
    "        n_bad += 1\n",
    "        pass"
   ]
  },
  {
   "cell_type": "code",
   "execution_count": null,
   "metadata": {
    "collapsed": false
   },
   "outputs": [],
   "source": [
    "n_mids = []\n",
    "beatles_wavs = glob.glob('data/wav/*/*.wav')\n",
    "for f in beatles_wavs:\n",
    "    mid_glob = f.replace('wav', 'mid') + '*'\n",
    "    n_mids.append(len(glob.glob(mid_glob)))\n",
    "n_mids = np.array(n_mids)\n",
    "print len(n_mids)\n",
    "print np.sum(n_mids == 0)\n",
    "print np.median(n_mids)\n",
    "print np.max(n_mids)\n",
    "print beatles_wavs[np.argmax(n_mids)]"
   ]
  }
 ],
 "metadata": {
  "kernelspec": {
   "display_name": "Python 2",
   "language": "python",
   "name": "python2"
  },
  "language_info": {
   "codemirror_mode": {
    "name": "ipython",
    "version": 2
   },
   "file_extension": ".py",
   "mimetype": "text/x-python",
   "name": "python",
   "nbconvert_exporter": "python",
   "pygments_lexer": "ipython2",
   "version": "2.7.6"
  }
 },
 "nbformat": 4,
 "nbformat_minor": 0
}
