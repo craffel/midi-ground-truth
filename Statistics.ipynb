{
 "cells": [
  {
   "cell_type": "markdown",
   "metadata": {},
   "source": [
    "# Measuring Statistics about Information Sources in MIDI Files\n",
    "\n",
    "A MIDI file can provide a cornucopia of musical information about a given piece of music, including transcription, key, lyrics, and meter.\n",
    "However, the presence and quantity of each of these sources of information can vary.\n",
    "Through a large-scale web scrape, we obtained 178,561 unique (i.e. having different MD5 checksums) MIDI files.\n",
    "This notebook measures the availability of each possible source of information in MIDI files in this collection of MIDIs found \"in the wild\"."
   ]
  },
  {
   "cell_type": "code",
   "execution_count": null,
   "metadata": {
    "collapsed": false
   },
   "outputs": [],
   "source": [
    "import pretty_midi\n",
    "import numpy as np\n",
    "import joblib\n",
    "import glob\n",
    "import matplotlib.pyplot as plt\n",
    "%matplotlib inline\n",
    "import seaborn as sns\n",
    "sns.set_style('white')\n",
    "sns.set_context('notebook', font_scale=1.5)\n",
    "import matplotlib.gridspec\n",
    "import cPickle as pickle\n",
    "import collections\n",
    "import os\n",
    "# plotting.py contains utility functions for making nice histogram plots\n",
    "import plotting"
   ]
  },
  {
   "cell_type": "markdown",
   "metadata": {},
   "source": [
    "## Compute statistics\n",
    "\n",
    "The `compute_statistics` function takes in a MIDI file and simply collects the number, and values for, different events (for example, key change values and tempo settings) in the file.\n",
    "We will call this function for every entry in our 178,561 MIDI file collection and use these measurements to study the distributions of different event values and quantities of different event types."
   ]
  },
  {
   "cell_type": "code",
   "execution_count": null,
   "metadata": {
    "collapsed": false
   },
   "outputs": [],
   "source": [
    "def compute_statistics(midi_file):\n",
    "    \"\"\"\n",
    "    Given a path to a MIDI file, compute a dictionary of statistics about it\n",
    "    \n",
    "    Parameters\n",
    "    ----------\n",
    "    midi_file : str\n",
    "        Path to a MIDI file.\n",
    "    \n",
    "    Returns\n",
    "    -------\n",
    "    statistics : dict\n",
    "        Dictionary reporting the values for different events in the file.\n",
    "    \"\"\"\n",
    "    # Some MIDI files will raise Exceptions on loading, if they are invalid.\n",
    "    # We just skip those.\n",
    "    try:\n",
    "        pm = pretty_midi.PrettyMIDI(midi_file)\n",
    "        # Extract informative events from the MIDI file\n",
    "        return {'n_instruments': len(pm.instruments),\n",
    "                'program_numbers': [i.program for i in pm.instruments if not i.is_drum],\n",
    "                'key_numbers': [k.key_number for k in pm.key_signature_changes],\n",
    "                'tempos': list(pm.get_tempo_changes()[1]),\n",
    "                'time_signature_changes': pm.time_signature_changes,\n",
    "                'end_time': pm.get_end_time(),\n",
    "                'lyrics': [l.text for l in pm.lyrics]}\n",
    "    # Silently ignore exceptions for a clean presentation (sorry Python!)\n",
    "    except Exception as e:\n",
    "        pass"
   ]
  },
  {
   "cell_type": "code",
   "execution_count": null,
   "metadata": {
    "collapsed": false
   },
   "outputs": [],
   "source": [
    "# Compute statistics about every file in our collection in parallel using joblib\n",
    "# We do things in parallel because there are tons so it would otherwise take too long!\n",
    "statistics = joblib.Parallel(n_jobs=10, verbose=10)(\n",
    "    joblib.delayed(compute_statistics)(midi_file)\n",
    "    for midi_file in glob.glob(os.path.join('data', 'unique_mid', '*', '*.mid')))\n",
    "# When an error occurred, None will be returned; filter those out.\n",
    "statistics = [s for s in statistics if s is not None]"
   ]
  },
  {
   "cell_type": "code",
   "execution_count": null,
   "metadata": {
    "collapsed": false
   },
   "outputs": [],
   "source": [
    "# Save the computed statistics so we only need to do the above once\n",
    "with open('statistics.pkl', 'wb') as f:\n",
    "    pickle.dump(statistics, f)"
   ]
  },
  {
   "cell_type": "code",
   "execution_count": null,
   "metadata": {
    "collapsed": false
   },
   "outputs": [],
   "source": [
    "# Load in pre-computed statistics\n",
    "with open('statistics.pkl') as f:\n",
    "    statistics = pickle.load(f)"
   ]
  },
  {
   "cell_type": "markdown",
   "metadata": {},
   "source": [
    "## Length\n",
    "To begin with, we can get an idea of the type of MIDI files which are available by looking at their length (i.e. time in seconds).  MIDI files are variously used for storing short melodic fragmets, drum patterns, ringtones, and full-song transcriptions; looking at the distribution of lengths of MIDI files in our collection gives a rough picture of how common each of these uses is."
   ]
  },
  {
   "cell_type": "code",
   "execution_count": null,
   "metadata": {
    "collapsed": false
   },
   "outputs": [],
   "source": [
    "plotting.plot_hist([s['end_time'] for s in statistics], range(0, 500, 15))\n",
    "plt.xticks(np.arange(0, len(range(0, 500, 15)), 4) + .5,\n",
    "           range(0, 430, 60) + ['480+'], rotation=45, ha='right');"
   ]
  },
  {
   "cell_type": "markdown",
   "metadata": {},
   "source": [
    "## Instruments\n",
    "In their simplest form, MIDI files contain a collection of notes played on a collection of instruments.  Under the General MIDI specification, 128 instruments are available (see `pretty_midi.INSTRUMENT_MAP` for a list) which are indexed by their \"program number\".  The distribution of the number of instruments in our MIDI files gives us further intuition into the MIDI files' usage; the distribution of program numbers shows us which instruments are more or less popular.  The four most common program numbers (shown as the four tallest bars in the distribution of program numbers) were 0 (“Acoustic Grand Piano”), 48 (“String Ensemble 1”), 33 (“Electric Bass (finger)”), and 25 (“Acoustic Guitar (steel)”)."
   ]
  },
  {
   "cell_type": "code",
   "execution_count": null,
   "metadata": {
    "collapsed": false
   },
   "outputs": [],
   "source": [
    "plotting.plot_hist([s['n_instruments'] for s in statistics], range(22))\n",
    "plt.xticks(range(0, 22, 5), range(0, 22 - 5, 5) + ['20+']);"
   ]
  },
  {
   "cell_type": "code",
   "execution_count": null,
   "metadata": {
    "collapsed": false
   },
   "outputs": [],
   "source": [
    "plotting.plot_hist([i for s in statistics for i in s['program_numbers']], range(128))"
   ]
  },
  {
   "cell_type": "markdown",
   "metadata": {},
   "source": [
    "## Tempo changes\n",
    "The timing of events in MIDI files is determined by tempo change events, which allow conversion from the MIDI \"tick\" timebase to absolute time in seconds.  Using many tempo change events can allow for a MIDI transcription's timing to closely match that of a specific performance of a piece of music.  While 120bpm is the default tempo for a MIDI file, the distribution of tempos shows that a wide variety of tempos is used."
   ]
  },
  {
   "cell_type": "code",
   "execution_count": null,
   "metadata": {
    "collapsed": false
   },
   "outputs": [],
   "source": [
    "plotting.plot_hist([len(s['tempos']) for s in statistics], range(1, 12) + [30, 100, 1000])\n",
    "plt.xticks(np.arange(13) + .3, range(1, 11) + ['11 - 30', '31 - 100', '101+'], rotation=45, ha='right');"
   ]
  },
  {
   "cell_type": "code",
   "execution_count": null,
   "metadata": {
    "collapsed": false
   },
   "outputs": [],
   "source": [
    "plotting.plot_hist([i for s in statistics for i in s['tempos']], range(0, 260, 10))\n",
    "plt.xticks(np.arange(0, len(range(0, 260, 10)), 3) + .5, range(0, 240, 30) + ['240+'], rotation=45, ha='right');"
   ]
  },
  {
   "cell_type": "markdown",
   "metadata": {},
   "source": [
    "## Time signature changes\n",
    "As their name suggests, time signature changes allow the time signature of the music to be specified.  Together with tempo change events, they allow the exact metrical structure (beats and downbeats) of a piece of music to be readily extracted.  The vast majority of MIDI files have a single time signature change event, and the vast majority of time signature changes are to 4/4, but there are nevertheless many examples in our collection with unusual metrical structure."
   ]
  },
  {
   "cell_type": "code",
   "execution_count": null,
   "metadata": {
    "collapsed": false
   },
   "outputs": [],
   "source": [
    "plotting.plot_hist([len(s['time_signature_changes']) for s in statistics], range(12))\n",
    "plt.xticks(range(11), range(10) + ['10+']);"
   ]
  },
  {
   "cell_type": "code",
   "execution_count": null,
   "metadata": {
    "collapsed": false,
    "scrolled": false
   },
   "outputs": [],
   "source": [
    "# Get strings for all time signatures\n",
    "time_signatures = ['{}/{}'.format(c.numerator, c.denominator)\n",
    "                   for s in statistics for c in s['time_signature_changes']]\n",
    "\n",
    "# Only display the n_top top time signatures\n",
    "n_top = 15\n",
    "# Get the n_top top time signatures\n",
    "top = collections.Counter(time_signatures).most_common(n_top)\n",
    "# Create a dict mapping an integer index to the time signature string\n",
    "top_signatures = {n: s[0] for n, s in enumerate(top)}\n",
    "# Add an additional index for non-top signatures\n",
    "top_signatures[n_top] = 'Other'\n",
    "# Compute the number of non-top time signatures\n",
    "n_other = len(time_signatures) - sum(s[1] for s in top)\n",
    "# Create a list with each index repeated the number of times\n",
    "# each time signature appears, to be passed to plt.hist\n",
    "indexed_time_signatures = sum([[n]*s[1] for n, s in enumerate(top)], [])\n",
    "indexed_time_signatures += [n_top]*n_other\n",
    "\n",
    "plotting.plot_hist(indexed_time_signatures, range(n_top + 2))\n",
    "plt.xticks(np.array(top_signatures.keys()) + .3, top_signatures.values(), rotation=45, ha='right');"
   ]
  },
  {
   "cell_type": "markdown",
   "metadata": {},
   "source": [
    "## Key changes\n",
    "The current key in a piece of music can be specified with the optional key signature change meta-events.  These events do not affect playback, so many of our MIDI files omit these events altogether, though a roughly equal number had a single key change event.  Interestingly, a disproportionate number of MIDI files had a key change to C major - this is likely a reflection of the fact that many MIDI transcription software packages automatically insert a C major key change."
   ]
  },
  {
   "cell_type": "code",
   "execution_count": null,
   "metadata": {
    "collapsed": false
   },
   "outputs": [],
   "source": [
    "plotting.plot_hist([len(s['key_numbers']) for s in statistics], range(12))\n",
    "plt.xticks(range(11), range(10) + ['10+']);"
   ]
  },
  {
   "cell_type": "code",
   "execution_count": null,
   "metadata": {
    "collapsed": false
   },
   "outputs": [],
   "source": [
    "plotting.plot_hist([i for s in statistics for i in s['key_numbers']], range(25))\n",
    "plt.xticks([0, 2, 4, 5, 7, 9, 11, 12, 14, 16, 17, 19, 21, 23],\n",
    "           ['C', 'D', 'E', 'F', 'G', 'A', 'B', 'c', 'd', 'e', 'f', 'g', 'a', 'b']);"
   ]
  },
  {
   "cell_type": "markdown",
   "metadata": {},
   "source": [
    "## Lyrics\n",
    "MIDI files can also optionally include timestamped lyrics events.  This in particular facilitates their use for karaoke.  In our collection, we found 23,801 MIDI files (about 13.3%) which had at least one lyrics meta-event.  Lyrics are often transcribed either at the word or syllable level, as indicated by the distibution of the lengths of their text."
   ]
  },
  {
   "cell_type": "code",
   "execution_count": null,
   "metadata": {
    "collapsed": false
   },
   "outputs": [],
   "source": [
    "plotting.plot_hist([len(s['lyrics']) for s in statistics], range(0, 1060, 50))\n",
    "plt.xticks(np.arange(0, len(range(0, 1050, 50)), 2) + .5,\n",
    "           range(0, 1000, 100) + ['1000+'], rotation=45, ha='right');"
   ]
  },
  {
   "cell_type": "code",
   "execution_count": null,
   "metadata": {
    "collapsed": false
   },
   "outputs": [],
   "source": [
    "plotting.plot_hist([len(l) for s in statistics for l in s['lyrics']], range(1, 10))\n",
    "plt.xticks(range(0, 8), range(1, 8) + ['8+']);"
   ]
  }
 ],
 "metadata": {
  "kernelspec": {
   "display_name": "Python 2",
   "language": "python",
   "name": "python2"
  },
  "language_info": {
   "codemirror_mode": {
    "name": "ipython",
    "version": 2
   },
   "file_extension": ".py",
   "mimetype": "text/x-python",
   "name": "python",
   "nbconvert_exporter": "python",
   "pygments_lexer": "ipython2",
   "version": "2.7.11"
  }
 },
 "nbformat": 4,
 "nbformat_minor": 0
}
